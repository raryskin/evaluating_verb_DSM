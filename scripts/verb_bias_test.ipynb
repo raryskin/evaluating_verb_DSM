{
 "cells": [
  {
   "cell_type": "code",
   "execution_count": 67,
   "id": "1c1ded2c",
   "metadata": {},
   "outputs": [],
   "source": [
    "import pandas as pd\n",
    "import os\n",
    "import csv\n",
    "import time\n",
    "import sys\n",
    "from collections import Counter\n",
    "import re\n",
    "\n",
    "pd.options.mode.chained_assignment = None\n"
   ]
  },
  {
   "cell_type": "code",
   "execution_count": 6,
   "id": "3141b4f0",
   "metadata": {},
   "outputs": [
    {
     "name": "stdout",
     "output_type": "stream",
     "text": [
      "         verb                                      arg_structure count\n",
      "0        find  '/CC/cc/2 find/VB/ROOT/0 sent/VBD/parataxis/2 ...    11\n",
      "1        find  '/CC/cc/3 but/CC/cc/3 find/VB/ROOT/0 within/IN...    11\n",
      "2        find  '/CC/cc/3 you/PRP/nsubj/3 find/VB/ROOT/0 withi...    11\n",
      "3        find  '/CC/dep/2 find/VB/dep/0 's/VBZ/ccomp/2 withou...    11\n",
      "4        find  '/IN/prep/3 may/NNP/pobj/1 find/VBP/ccomp/0 fa...    10\n",
      "...       ...                                                ...   ...\n",
      "173664  finds  by/IN/prep/3 reason/NN/pobj/1 finds/VBZ/ROOT/0...    16\n",
      "173665  finds  by/IN/prep/3 search/NN/pobj/1 finds/VBZ/ccomp/...    14\n",
      "173666  finds  by/IN/prep/3 time/NN/pobj/1 finds/VBZ/ROOT/0 s...    11\n",
      "173667  finds  by/IN/prep/3 vaughan/NNP/pobj/1 saves/VBZ/advc...    34\n",
      "173668  finds  by/IN/prep/4 del/NNP/nn/3 mar/NNP/pobj/1 finds...    14\n",
      "\n",
      "[173669 rows x 3 columns]\n"
     ]
    }
   ],
   "source": [
    "csv.field_size_limit(sys.maxsize)\n",
    "syntgram_dir = \"../data\"\n",
    "filename = \"find_with.tsv\"\n",
    "\n",
    "raw_data = []\n",
    "\n",
    "with open(syntgram_dir + \"/\" + filename) as f:\n",
    "    reader = csv.reader(f, delimiter='\\t', quotechar = None, doublequote= True)\n",
    "    raw_data = [r for r in reader]\n",
    "    \n",
    "df = pd.DataFrame(data=raw_data)\n",
    "\n",
    "df = df[[0,1,2]]\n",
    "df.columns = [\"verb\", \"arg_structure\", \"count\"]\n",
    "\n",
    "print(df)\n"
   ]
  },
  {
   "cell_type": "code",
   "execution_count": 7,
   "id": "b9d60277",
   "metadata": {},
   "outputs": [
    {
     "name": "stdout",
     "output_type": "stream",
     "text": [
      "                                            arg_structure\n",
      "0       '/CC/cc/2 find/VB/ROOT/0 sent/VBD/parataxis/2 ...\n",
      "1       '/CC/cc/3 but/CC/cc/3 find/VB/ROOT/0 within/IN...\n",
      "2       '/CC/cc/3 you/PRP/nsubj/3 find/VB/ROOT/0 withi...\n",
      "3       '/CC/dep/2 find/VB/dep/0 's/VBZ/ccomp/2 withou...\n",
      "4       '/IN/prep/3 may/NNP/pobj/1 find/VBP/ccomp/0 fa...\n",
      "...                                                   ...\n",
      "173664  by/IN/prep/3 reason/NN/pobj/1 finds/VBZ/ROOT/0...\n",
      "173665  by/IN/prep/3 search/NN/pobj/1 finds/VBZ/ccomp/...\n",
      "173666  by/IN/prep/3 time/NN/pobj/1 finds/VBZ/ROOT/0 s...\n",
      "173667  by/IN/prep/3 vaughan/NNP/pobj/1 saves/VBZ/advc...\n",
      "173668  by/IN/prep/4 del/NNP/nn/3 mar/NNP/pobj/1 finds...\n",
      "\n",
      "[173669 rows x 1 columns]\n"
     ]
    }
   ],
   "source": [
    "sub_df = df[[\"arg_structure\"]]\n",
    "print(sub_df)"
   ]
  },
  {
   "cell_type": "code",
   "execution_count": 17,
   "id": "1a7ae931",
   "metadata": {},
   "outputs": [
    {
     "name": "stdout",
     "output_type": "stream",
     "text": [
      "[['again/RB/advmod/2 find/VB/ccomp/0 favor/NN/dobj/2 with/IN/prep/2 writers/NNS/pobj/4']\n",
      " ['again/RB/advmod/2 find/VB/ccomp/0 graced/VBD/ccomp/2 with/IN/prep/3 retinue/NN/pobj/4']]\n"
     ]
    }
   ],
   "source": [
    "sample = sub_df.iloc[896:898,].values\n",
    "print(sample)"
   ]
  },
  {
   "cell_type": "code",
   "execution_count": 20,
   "id": "add8f806",
   "metadata": {},
   "outputs": [
    {
     "name": "stdout",
     "output_type": "stream",
     "text": [
      "again/RB/advmod/2 find/VB/ccomp/0 favor/NN/dobj/2 with/IN/prep/2 writers/NNS/pobj/4\n"
     ]
    }
   ],
   "source": [
    "instrument = sample[0][0]\n",
    "print(instrument)"
   ]
  },
  {
   "cell_type": "code",
   "execution_count": null,
   "id": "85b335b8",
   "metadata": {},
   "outputs": [],
   "source": [
    "# df_subset[\"prepc_vmod\"] = df_subset.arg_structure.str.contains(\"(?=prepc)(?=.*vmod)\", regex=True)"
   ]
  },
  {
   "cell_type": "code",
   "execution_count": 43,
   "id": "85f0f9fb",
   "metadata": {},
   "outputs": [],
   "source": [
    "def check_bias(root_verb, connection_word, arg_structure):\n",
    "    print(arg_structure)\n",
    "    holder = []\n",
    "    root_index = -1\n",
    "    connection = -1\n",
    "\n",
    "    counter = 1\n",
    "    for word in arg_structure.split(\" \"):\n",
    "        temp = word.split(\"/\")\n",
    "        # print(temp)\n",
    "        if temp[0] == connection_word:\n",
    "            connection = int(temp[3])\n",
    "        elif temp[0] == root_verb:\n",
    "            root_index = counter\n",
    "        else:\n",
    "            counter = counter + 1\n",
    "        holder.append(temp)\n",
    "\n",
    "    print(root_verb, root_index)\n",
    "    print(connection_word, connection)\n",
    "    if root_index == connection:\n",
    "        print(\"Instrument bias\")\n",
    "        return \"instrument\"\n",
    "    else:\n",
    "        print(\"Modifier bias\")\n",
    "        return \"modifier\""
   ]
  },
  {
   "cell_type": "code",
   "execution_count": 62,
   "id": "8606b8e3",
   "metadata": {},
   "outputs": [],
   "source": [
    "def check_bias_alt(arg_structure):\n",
    "    print(arg_structure)\n",
    "    if \"/prep/\" not in arg_structure:\n",
    "        return \"neither\"\n",
    "    holder = []\n",
    "    root_index = -1\n",
    "    connection = -1\n",
    "\n",
    "    counter = 1\n",
    "    for word in arg_structure.split(\" \"):\n",
    "        temp = word.split(\"/\")\n",
    "        if temp[2] == \"prep\":\n",
    "            connection_word = temp[0]\n",
    "            connection = int(temp[3])\n",
    "\n",
    "        if temp[3] == \"0\":\n",
    "            root_index = counter\n",
    "            root_verb = temp[0]\n",
    "        else:\n",
    "            counter = counter + 1\n",
    "        holder.append(temp)\n",
    "\n",
    "    # print(root_verb, root_index)\n",
    "    # print(connection_word, connection)\n",
    "    if root_index == connection:\n",
    "        # print(\"Instrument bias\")\n",
    "        return \"instrument\"\n",
    "    else:\n",
    "        # print(\"Modifier bias\")\n",
    "        return \"modifier\""
   ]
  },
  {
   "cell_type": "code",
   "execution_count": 74,
   "id": "2ed723a5",
   "metadata": {},
   "outputs": [],
   "source": [
    "# check_bias_alt(instrument)"
   ]
  },
  {
   "cell_type": "code",
   "execution_count": 73,
   "id": "c4b0da7d",
   "metadata": {},
   "outputs": [],
   "source": [
    "# check_bias_alt(sample[1][0])"
   ]
  },
  {
   "cell_type": "code",
   "execution_count": null,
   "id": "fc42e4f0",
   "metadata": {},
   "outputs": [],
   "source": [
    "sub_df[\"bias\"] = sub_df[\"arg_structure\"].apply(check_bias_alt)"
   ]
  },
  {
   "cell_type": "code",
   "execution_count": 66,
   "id": "3bb37087",
   "metadata": {},
   "outputs": [],
   "source": [
    "sub_df.to_csv(\"../data_output/test.csv\")"
   ]
  },
  {
   "cell_type": "code",
   "execution_count": 72,
   "id": "5bb96707",
   "metadata": {},
   "outputs": [
    {
     "name": "stdout",
     "output_type": "stream",
     "text": [
      "False\n",
      "True\n"
     ]
    }
   ],
   "source": [
    "a = \"bat table car\"\n",
    "b = \"car bat\"\n",
    "\n",
    "print(re.search(\"(?=bat)(?=.*car)\", a) == None)\n",
    "print(re.search(\"(?=bat)(?=.*car)\", b) == None)\n"
   ]
  }
 ],
 "metadata": {
  "kernelspec": {
   "display_name": "Python 3.10.4 ('linc')",
   "language": "python",
   "name": "python3"
  },
  "language_info": {
   "codemirror_mode": {
    "name": "ipython",
    "version": 3
   },
   "file_extension": ".py",
   "mimetype": "text/x-python",
   "name": "python",
   "nbconvert_exporter": "python",
   "pygments_lexer": "ipython3",
   "version": "3.10.4"
  },
  "vscode": {
   "interpreter": {
    "hash": "4c9c036ea3fd659fff21d21f73da6532ed68454ad56b9611b3c5fc6cc9e1abab"
   }
  }
 },
 "nbformat": 4,
 "nbformat_minor": 5
}
