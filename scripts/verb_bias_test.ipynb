{
 "cells": [
  {
   "cell_type": "code",
   "execution_count": 1,
   "id": "1c1ded2c",
   "metadata": {},
   "outputs": [],
   "source": [
    "import pandas as pd\n",
    "import os\n",
    "import csv\n",
    "import time\n",
    "import sys\n",
    "from collections import Counter\n",
    "\n",
    "pd.options.mode.chained_assignment = None\n"
   ]
  },
  {
   "cell_type": "code",
   "execution_count": 2,
   "id": "3141b4f0",
   "metadata": {},
   "outputs": [],
   "source": [
    "csv.field_size_limit(sys.maxsize)\n",
    "syntgram_dir = \"../data\"\n",
    "filename = \"find_triarcs.tsv\"\n",
    "\n",
    "raw_data = []\n",
    "\n",
    "with open(syntgram_dir + \"/\" + filename) as f:\n",
    "    reader = csv.reader(f, delimiter='\\t', quotechar = None, doublequote= True)\n",
    "    raw_data = [r for r in reader]\n",
    "    \n",
    "df = pd.DataFrame(data=raw_data)\n",
    "print(df)\n"
   ]
  },
  {
   "cell_type": "code",
   "execution_count": null,
   "id": "add8f806",
   "metadata": {},
   "outputs": [],
   "source": []
  }
 ],
 "metadata": {
  "kernelspec": {
   "display_name": "Python 3.10.4 ('linc')",
   "language": "python",
   "name": "python3"
  },
  "language_info": {
   "codemirror_mode": {
    "name": "ipython",
    "version": 3
   },
   "file_extension": ".py",
   "mimetype": "text/x-python",
   "name": "python",
   "nbconvert_exporter": "python",
   "pygments_lexer": "ipython3",
   "version": "3.10.4"
  },
  "vscode": {
   "interpreter": {
    "hash": "4c9c036ea3fd659fff21d21f73da6532ed68454ad56b9611b3c5fc6cc9e1abab"
   }
  }
 },
 "nbformat": 4,
 "nbformat_minor": 5
}
