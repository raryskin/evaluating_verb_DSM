{
 "cells": [
  {
   "cell_type": "code",
   "execution_count": 1,
   "id": "1c1ded2c",
   "metadata": {},
   "outputs": [],
   "source": [
    "import pandas as pd\n",
    "import os\n",
    "import csv\n",
    "import time\n",
    "import sys\n",
    "from collections import Counter\n",
    "import re\n",
    "\n",
    "pd.options.mode.chained_assignment = None\n"
   ]
  },
  {
   "cell_type": "code",
   "execution_count": 2,
   "id": "d5f607f1",
   "metadata": {},
   "outputs": [],
   "source": [
    "target_verbs = [\"strike\", \"whack\", \"hit\", \"rub\", \"poke\", \"bop\", \"smack\", \"clean\", \"tease\", \"feed\", \"scuff\", \"pinch\", \"knock\", \"pat\", \"locate\", \"feel\", \"spot\", \"point\", \"pet\", \"look\", \"squeeze\", \"pick\", \"cuddle\", \"find\", \"hug\", \"select\", \"choose\"]"
   ]
  },
  {
   "cell_type": "code",
   "execution_count": 3,
   "id": "06ff9ea4",
   "metadata": {},
   "outputs": [],
   "source": [
    "def row2dict(date_row):\n",
    "    date_row = date_row.dropna()\n",
    "    date_dict = {}\n",
    "    for item in date_row.values:\n",
    "        split_dates = item.split(\",\")\n",
    "        date_dict[split_dates[0]] = int(split_dates[1])\n",
    "    return date_dict\n",
    "\n",
    "\n",
    "def sum_dicts(set_of_dicts):\n",
    "    # print(set_of_dicts)\n",
    "    initial = Counter(set_of_dicts[0])\n",
    "    for i in range(1,len(set_of_dicts)):\n",
    "        initial = initial + Counter(set_of_dicts[i])\n",
    "    return sorted(initial.items())"
   ]
  },
  {
   "cell_type": "code",
   "execution_count": 4,
   "id": "3141b4f0",
   "metadata": {},
   "outputs": [],
   "source": [
    "csv.field_size_limit(sys.maxsize)\n",
    "syntgram_dir = \"../data\"\n",
    "filename = \"find_with.tsv\"\n",
    "result = pd.DataFrame()\n",
    "\n",
    "raw_data = []\n",
    "\n",
    "with open(syntgram_dir + \"/\" + filename) as f:\n",
    "    reader = csv.reader(f, delimiter='\\t', quotechar = None, doublequote= True)\n",
    "    raw_data = [r for r in reader]\n",
    "    \n",
    "df = pd.DataFrame(data=raw_data)\n",
    "\n",
    "dates = df.loc[:, ~ df.columns.isin([0,1,2])]\n",
    "\n",
    "date_row = dates.loc[0,:]\n",
    "dates[\"counts\"] = dates.apply(lambda row: row2dict(row), axis = 1)\n"
   ]
  },
  {
   "cell_type": "code",
   "execution_count": 5,
   "id": "8edac92d",
   "metadata": {},
   "outputs": [
    {
     "name": "stdout",
     "output_type": "stream",
     "text": [
      "         verb                                      arg_structure  count  \\\n",
      "0        find  '/CC/cc/2 find/VB/ROOT/0 sent/VBD/parataxis/2 ...     11   \n",
      "1        find  '/CC/cc/3 but/CC/cc/3 find/VB/ROOT/0 within/IN...     11   \n",
      "2        find  '/CC/cc/3 you/PRP/nsubj/3 find/VB/ROOT/0 withi...     11   \n",
      "3        find  '/CC/dep/2 find/VB/dep/0 's/VBZ/ccomp/2 withou...     11   \n",
      "4        find  '/IN/prep/3 may/NNP/pobj/1 find/VBP/ccomp/0 fa...     10   \n",
      "...       ...                                                ...    ...   \n",
      "173664  finds  by/IN/prep/3 reason/NN/pobj/1 finds/VBZ/ROOT/0...     16   \n",
      "173665  finds  by/IN/prep/3 search/NN/pobj/1 finds/VBZ/ccomp/...     14   \n",
      "173666  finds  by/IN/prep/3 time/NN/pobj/1 finds/VBZ/ROOT/0 s...     11   \n",
      "173667  finds  by/IN/prep/3 vaughan/NNP/pobj/1 saves/VBZ/advc...     34   \n",
      "173668  finds  by/IN/prep/4 del/NNP/nn/3 mar/NNP/pobj/1 finds...     14   \n",
      "\n",
      "                                               year_count  \n",
      "0       {'1887': 1, '1962': 1, '1980': 1, '1984': 2, '...  \n",
      "1       {'1841': 3, '1842': 1, '1844': 2, '1964': 4, '...  \n",
      "2       {'1841': 3, '1842': 1, '1844': 2, '1964': 4, '...  \n",
      "3       {'1954': 2, '1955': 1, '1965': 1, '1966': 1, '...  \n",
      "4            {'1967': 5, '1978': 1, '1984': 3, '2002': 1}  \n",
      "...                                                   ...  \n",
      "173664  {'1835': 1, '1853': 1, '1866': 1, '1890': 1, '...  \n",
      "173665       {'2004': 1, '2006': 2, '2007': 2, '2008': 9}  \n",
      "173666                  {'1934': 7, '1936': 2, '2007': 2}  \n",
      "173667  {'1992': 2, '1993': 10, '1994': 7, '1995': 14,...  \n",
      "173668  {'1883': 8, '1887': 2, '1888': 1, '1890': 1, '...  \n",
      "\n",
      "[173669 rows x 4 columns]\n"
     ]
    }
   ],
   "source": [
    "df = df[[0,1,2]]\n",
    "df.columns = [\"verb\", \"arg_structure\", \"count\"]\n",
    "df[\"count\"] = df[\"count\"].astype(int)\n",
    "df[\"year_count\"] = dates[\"counts\"]\n",
    "\n",
    "print(df)"
   ]
  },
  {
   "cell_type": "code",
   "execution_count": 6,
   "id": "be9c7463",
   "metadata": {},
   "outputs": [
    {
     "name": "stdout",
     "output_type": "stream",
     "text": [
      "        verb                                      arg_structure  count  \\\n",
      "0       find  '/CC/cc/2 find/VB/ROOT/0 sent/VBD/parataxis/2 ...     11   \n",
      "1       find  '/CC/cc/3 but/CC/cc/3 find/VB/ROOT/0 within/IN...     11   \n",
      "2       find  '/CC/cc/3 you/PRP/nsubj/3 find/VB/ROOT/0 withi...     11   \n",
      "3       find  '/CC/dep/2 find/VB/dep/0 's/VBZ/ccomp/2 withou...     11   \n",
      "4       find  '/IN/prep/3 may/NNP/pobj/1 find/VBP/ccomp/0 fa...     10   \n",
      "...      ...                                                ...    ...   \n",
      "159360  find  youth/NN/nsubj/4 like/IN/prep/1 hurry/NNP/pobj...     38   \n",
      "159361  find  youth/NN/nsubj/5 with/IN/prep/1 fair/NN/pobj/2...     10   \n",
      "159362  find  youths/NNS/nsubj/2 find/VBP/ROOT/0 identify/VB...     10   \n",
      "159363  find  zemindar/NN/nsubj/2 find/VB/advcl/0 grain/NN/d...     14   \n",
      "159364  find  zemindar/NN/nsubj/2 find/VB/advcl/0 within/IN/...     13   \n",
      "\n",
      "                                               year_count  \n",
      "0       {'1887': 1, '1962': 1, '1980': 1, '1984': 2, '...  \n",
      "1       {'1841': 3, '1842': 1, '1844': 2, '1964': 4, '...  \n",
      "2       {'1841': 3, '1842': 1, '1844': 2, '1964': 4, '...  \n",
      "3       {'1954': 2, '1955': 1, '1965': 1, '1966': 1, '...  \n",
      "4            {'1967': 5, '1978': 1, '1984': 3, '2002': 1}  \n",
      "...                                                   ...  \n",
      "159360  {'1850': 1, '1852': 1, '1861': 1, '1876': 1, '...  \n",
      "159361  {'1808': 4, '1821': 2, '1885': 1, '1893': 1, '...  \n",
      "159362  {'1967': 2, '1969': 1, '1970': 4, '1971': 1, '...  \n",
      "159363  {'1851': 1, '1852': 1, '1858': 1, '1859': 3, '...  \n",
      "159364  {'1851': 1, '1852': 1, '1859': 3, '1860': 1, '...  \n",
      "\n",
      "[159365 rows x 4 columns]\n"
     ]
    }
   ],
   "source": [
    "df_subset = df[df.verb.isin(target_verbs)]\n",
    "print(df_subset)"
   ]
  },
  {
   "cell_type": "code",
   "execution_count": 7,
   "id": "b9d60277",
   "metadata": {},
   "outputs": [],
   "source": [
    "# sub_df = df[[\"arg_structure\"]]\n",
    "# print(sub_df)"
   ]
  },
  {
   "cell_type": "code",
   "execution_count": 8,
   "id": "1a7ae931",
   "metadata": {},
   "outputs": [],
   "source": [
    "# sample = sub_df.iloc[896:898,].values\n",
    "# print(sample)"
   ]
  },
  {
   "cell_type": "code",
   "execution_count": 9,
   "id": "add8f806",
   "metadata": {},
   "outputs": [],
   "source": [
    "# instrument = sample[0][0]\n",
    "# print(instrument)"
   ]
  },
  {
   "cell_type": "code",
   "execution_count": 10,
   "id": "85b335b8",
   "metadata": {},
   "outputs": [],
   "source": [
    "# df_subset[\"prepc_vmod\"] = df_subset.arg_structure.str.contains(\"(?=prepc)(?=.*vmod)\", regex=True)"
   ]
  },
  {
   "cell_type": "code",
   "execution_count": 11,
   "id": "85f0f9fb",
   "metadata": {},
   "outputs": [],
   "source": [
    "# def check_bias(root_verb, connection_word, arg_structure):\n",
    "#     print(arg_structure)\n",
    "#     holder = []\n",
    "#     root_index = -1\n",
    "#     connection = -1\n",
    "\n",
    "#     counter = 1\n",
    "#     for word in arg_structure.split(\" \"):\n",
    "#         temp = word.split(\"/\")\n",
    "#         # print(temp)\n",
    "#         if temp[0] == connection_word:\n",
    "#             connection = int(temp[3])\n",
    "#         elif temp[0] == root_verb:\n",
    "#             root_index = counter\n",
    "#         else:\n",
    "#             counter = counter + 1\n",
    "#         holder.append(temp)\n",
    "\n",
    "#     print(root_verb, root_index)\n",
    "#     print(connection_word, connection)\n",
    "#     if root_index == connection:\n",
    "#         print(\"Instrument bias\")\n",
    "#         return \"instrument\"\n",
    "#     else:\n",
    "#         print(\"Modifier bias\")\n",
    "#         return \"modifier\""
   ]
  },
  {
   "cell_type": "code",
   "execution_count": 12,
   "id": "8606b8e3",
   "metadata": {},
   "outputs": [],
   "source": [
    "def check_bias_alt(arg_structure):\n",
    "#     print(arg_structure)\n",
    "    \n",
    "    holder = []\n",
    "    root_index = -1\n",
    "    connection_word = \"with\"\n",
    "    connection_index = -1\n",
    "    connection = -1\n",
    "\n",
    "    counter = 1\n",
    "    for word in arg_structure.split(\" \"):\n",
    "        temp = word.split(\"/\")\n",
    "        if temp[0] == \"with\":\n",
    "            connection = int(temp[3])\n",
    "            connection_index = counter\n",
    "        if temp[3] == \"0\":\n",
    "            root_index = counter\n",
    "            root_verb = temp[0]\n",
    "        else:\n",
    "            counter = counter + 1\n",
    "        holder.append(temp)\n",
    "\n",
    "    # print(root_verb, root_index)\n",
    "    # print(connection_word, connection)\n",
    "    \n",
    "#     print(root_verb)\n",
    "#     print(re.search(\"(?=\"+root_verb+\")(?=.*with/)\", arg_structure) == None)\n",
    "#     print((root_index == connection_index))\n",
    "#     print(root_index, connection_index)\n",
    "#     print()\n",
    "    if (re.search(\"(?=\"+root_verb+\")(?=.*with/)\", arg_structure) == None):\n",
    "        return \"no_with\"\n",
    "    elif (root_index == connection_index): # If root verb is not followed by \"with\"\n",
    "        return \"neither\"\n",
    "    if root_index == connection:\n",
    "        # print(\"Instrument bias\")\n",
    "        return \"instrument\"\n",
    "    else:\n",
    "        # print(\"Modifier bias\")\n",
    "        return \"modifier\""
   ]
  },
  {
   "cell_type": "code",
   "execution_count": 13,
   "id": "2ed723a5",
   "metadata": {},
   "outputs": [],
   "source": [
    "# check_bias_alt(instrument)"
   ]
  },
  {
   "cell_type": "code",
   "execution_count": 14,
   "id": "c4b0da7d",
   "metadata": {},
   "outputs": [],
   "source": [
    "# check_bias_alt(sample[1][0])"
   ]
  },
  {
   "cell_type": "code",
   "execution_count": 15,
   "id": "fc42e4f0",
   "metadata": {},
   "outputs": [],
   "source": [
    "df_subset[\"bias\"] = df_subset[\"arg_structure\"].apply(check_bias_alt)"
   ]
  },
  {
   "cell_type": "code",
   "execution_count": 16,
   "id": "611917c0",
   "metadata": {},
   "outputs": [],
   "source": [
    "# df_subset[\"modifier\"] = df_subset.bias.str.contains(\"modifier\")\n",
    "# df_subset[\"instrument\"] = df_subset.bias.str.contains(\"instrument\")\n",
    "# df_subset[\"neither\"] = df_subset.bias.str.contains(\"neither\")\n",
    "# df_subset[\"no_with\"] = df_subset.bias.str.contains(\"no_with\")\n",
    "# df_subset[\"check\"] = df_subset[\"modifier\"] + df_subset[\"instrument\"] + df_subset[\"neither\"] + df_subset[\"no_with\"]"
   ]
  },
  {
   "cell_type": "code",
   "execution_count": 17,
   "id": "d50a05ea",
   "metadata": {},
   "outputs": [
    {
     "name": "stdout",
     "output_type": "stream",
     "text": [
      "        verb                                      arg_structure  count  \\\n",
      "0       find  '/CC/cc/2 find/VB/ROOT/0 sent/VBD/parataxis/2 ...     11   \n",
      "1       find  '/CC/cc/3 but/CC/cc/3 find/VB/ROOT/0 within/IN...     11   \n",
      "2       find  '/CC/cc/3 you/PRP/nsubj/3 find/VB/ROOT/0 withi...     11   \n",
      "3       find  '/CC/dep/2 find/VB/dep/0 's/VBZ/ccomp/2 withou...     11   \n",
      "4       find  '/IN/prep/3 may/NNP/pobj/1 find/VBP/ccomp/0 fa...     10   \n",
      "...      ...                                                ...    ...   \n",
      "159360  find  youth/NN/nsubj/4 like/IN/prep/1 hurry/NNP/pobj...     38   \n",
      "159361  find  youth/NN/nsubj/5 with/IN/prep/1 fair/NN/pobj/2...     10   \n",
      "159362  find  youths/NNS/nsubj/2 find/VBP/ROOT/0 identify/VB...     10   \n",
      "159363  find  zemindar/NN/nsubj/2 find/VB/advcl/0 grain/NN/d...     14   \n",
      "159364  find  zemindar/NN/nsubj/2 find/VB/advcl/0 within/IN/...     13   \n",
      "\n",
      "                                               year_count        bias  \\\n",
      "0       {'1887': 1, '1962': 1, '1980': 1, '1984': 2, '...    modifier   \n",
      "1       {'1841': 3, '1842': 1, '1844': 2, '1964': 4, '...     no_with   \n",
      "2       {'1841': 3, '1842': 1, '1844': 2, '1964': 4, '...     no_with   \n",
      "3       {'1954': 2, '1955': 1, '1965': 1, '1966': 1, '...     no_with   \n",
      "4            {'1967': 5, '1978': 1, '1984': 3, '2002': 1}  instrument   \n",
      "...                                                   ...         ...   \n",
      "159360  {'1850': 1, '1852': 1, '1861': 1, '1876': 1, '...     neither   \n",
      "159361  {'1808': 4, '1821': 2, '1885': 1, '1893': 1, '...     no_with   \n",
      "159362  {'1967': 2, '1969': 1, '1970': 4, '1971': 1, '...    modifier   \n",
      "159363  {'1851': 1, '1852': 1, '1858': 1, '1859': 3, '...     no_with   \n",
      "159364  {'1851': 1, '1852': 1, '1859': 3, '1860': 1, '...     no_with   \n",
      "\n",
      "        modifier  instrument  neither  no_with  check  \n",
      "0           True       False    False    False   True  \n",
      "1          False       False    False     True   True  \n",
      "2          False       False    False     True   True  \n",
      "3          False       False    False     True   True  \n",
      "4          False        True    False    False   True  \n",
      "...          ...         ...      ...      ...    ...  \n",
      "159360     False       False     True    False   True  \n",
      "159361     False       False    False     True   True  \n",
      "159362      True       False    False    False   True  \n",
      "159363     False       False    False     True   True  \n",
      "159364     False       False    False     True   True  \n",
      "\n",
      "[159365 rows x 10 columns]\n"
     ]
    }
   ],
   "source": [
    "print(df_subset)"
   ]
  },
  {
   "cell_type": "code",
   "execution_count": 18,
   "id": "3bb37087",
   "metadata": {},
   "outputs": [],
   "source": [
    "# df_subset.to_csv(\"../data_output/test.csv\", index = False)"
   ]
  },
  {
   "cell_type": "code",
   "execution_count": 19,
   "id": "5bb96707",
   "metadata": {},
   "outputs": [],
   "source": [
    "# a = \"'/CC/cc/2 find/VB/ROOT/0 sent/VBD/parataxis/2 with/IN/prep/3 load/NN/pobj/4\"\n",
    "\n",
    "# print(re.search(\"(?=find)(?=.*with/)\", a) == None)"
   ]
  },
  {
   "cell_type": "code",
   "execution_count": 20,
   "id": "f9af19c6",
   "metadata": {},
   "outputs": [],
   "source": [
    "# Check if structure is [verb, \"with\"]\n",
    "\n",
    "# Check that \"with\" is not directly after verb\n",
    "\n",
    "# Check attachment of \"with\""
   ]
  },
  {
   "cell_type": "code",
   "execution_count": 21,
   "id": "975c8713",
   "metadata": {},
   "outputs": [],
   "source": [
    "# df_type = df_subset[[\"verb\",\"modifier\",\"instrument\",\"neither\",\"no_with\"]]\n",
    "# for col in [\"modifier\",\"instrument\",\"neither\",\"no_with\"]:\n",
    "#     df_type[col] = df_type[col].replace({True: 1, False: 0})\n",
    "# df_type = df_type.set_index(\"verb\")"
   ]
  },
  {
   "cell_type": "code",
   "execution_count": 22,
   "id": "02220d9f",
   "metadata": {},
   "outputs": [],
   "source": [
    "# df_type = df_type.idxmax(axis=1)\n",
    "# df_subset[\"alternation\"] = df_type.values"
   ]
  },
  {
   "cell_type": "code",
   "execution_count": 25,
   "id": "3b546318",
   "metadata": {},
   "outputs": [],
   "source": [
    "result = pd.DataFrame()\n",
    "\n",
    "for verb in pd.unique(df_subset.verb):\n",
    "    for bias in pd.unique(df_subset.bias):\n",
    "        print(verb, bias)\n",
    "        temp = df_subset[(df_subset[\"verb\"] == verb) & (df_subset[\"bias\"] == bias)]\n",
    "        if len(temp) != 0:\n",
    "            print(temp)\n",
    "            total_count = temp[\"count\"].sum()\n",
    "            year_counts = sum_dicts(temp[\"year_count\"].values)\n",
    "        else:\n",
    "            total_count = 0\n",
    "            year_counts = -1\n",
    "\n",
    "        new_row = {\"verb\":[verb], \"bias\":[bias], \"total_count\": [total_count], \"year_count\":[year_counts]}\n",
    "        new_row = pd.DataFrame(new_row)\n",
    "        print()\n",
    "        result = pd.concat([result, new_row], axis = 0)\n"
   ]
  },
  {
   "cell_type": "code",
   "execution_count": 26,
   "id": "0de362f9",
   "metadata": {},
   "outputs": [
    {
     "name": "stdout",
     "output_type": "stream",
     "text": [
      "   verb        bias  total_count  \\\n",
      "0  find    modifier      1035127   \n",
      "0  find     no_with      1144786   \n",
      "0  find  instrument       391286   \n",
      "0  find     neither       403208   \n",
      "\n",
      "                                          year_count  \n",
      "0  [(1611, 2), (1644, 1), (1645, 1), (1651, 3), (...  \n",
      "0  [(1651, 36), (1660, 26), (1663, 16), (1666, 25...  \n",
      "0  [(1586, 4), (1632, 1), (1648, 2), (1663, 6), (...  \n",
      "0  [(1586, 7), (1663, 16), (1666, 13), (1711, 1),...  \n"
     ]
    }
   ],
   "source": [
    "print(result)"
   ]
  }
 ],
 "metadata": {
  "kernelspec": {
   "display_name": "linc",
   "language": "python",
   "name": "linc"
  },
  "language_info": {
   "codemirror_mode": {
    "name": "ipython",
    "version": 3
   },
   "file_extension": ".py",
   "mimetype": "text/x-python",
   "name": "python",
   "nbconvert_exporter": "python",
   "pygments_lexer": "ipython3",
   "version": "3.9.13"
  },
  "vscode": {
   "interpreter": {
    "hash": "4c9c036ea3fd659fff21d21f73da6532ed68454ad56b9611b3c5fc6cc9e1abab"
   }
  }
 },
 "nbformat": 4,
 "nbformat_minor": 5
}
